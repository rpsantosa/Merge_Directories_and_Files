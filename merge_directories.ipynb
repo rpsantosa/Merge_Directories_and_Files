{
 "cells": [
  {
   "cell_type": "code",
   "execution_count": 1,
   "outputs": [],
   "source": [
    "# import shutil module\n",
    "import shutil\n",
    "\n",
    "# import os module\n",
    "import os"
   ],
   "metadata": {
    "collapsed": false,
    "pycharm": {
     "name": "#%%\n"
    }
   }
  },
  {
   "cell_type": "code",
   "execution_count": 19,
   "metadata": {
    "collapsed": true,
    "pycharm": {
     "name": "#%%\n"
    }
   },
   "outputs": [
    {
     "name": "stdout",
     "output_type": "stream",
     "text": [
      "Directoreis copied\n",
      "['drive-download-20221107T044101Z-002', 'drive-download-20221107T044101Z-003', 'drive-download-20221107T044101Z-004', 'drive-download-20221107T044101Z-005', 'drive-download-20221107T044101Z-006', 'drive-download-20221107T044101Z-007', 'drive-download-20221107T044101Z-008', 'drive-download-20221107T044101Z-009', 'drive-download-20221107T044101Z-010', 'drive-download-20221107T044101Z-011', 'drive-download-20221107T044101Z-012', 'drive-download-20221107T044101Z-013', 'drive-download-20221107T044101Z-014', 'drive-download-20221107T044101Z-015', 'drive-download-20221107T044101Z-016', 'drive-download-20221107T044101Z-017', 'drive-download-20221107T044101Z-018', 'drive-download-20221107T044101Z-019', 'drive-download-20221107T044101Z-020', 'drive-download-20221107T044101Z-021', 'drive-download-20221107T044101Z-022', 'drive-download-20221107T044101Z-023', 'drive-download-20221107T044101Z-024', 'drive-download-20221107T044101Z-025', 'drive-download-20221107T044101Z-026', 'drive-download-20221107T044101Z-028', 'drive-download-20221107T044101Z-029', 'drive-download-20221107T044101Z-030', 'drive-download-20221107T044101Z-031', 'drive-download-20221107T044101Z-032', 'drive-download-20221107T044101Z-033', 'drive-download-20221107T044101Z-034', 'drive-download-20221107T044101Z-035', 'drive-download-20221107T044101Z-036', 'drive-download-20221107T044101Z-037', 'drive-download-20221107T044101Z-038', 'drive-download-20221107T044101Z-039', 'drive-download-20221107T044101Z-040', 'drive-download-20221107T044101Z-041', 'drive-download-20221107T044101Z-042', 'drive-download-20221107T044101Z-043', 'drive-download-20221107T044101Z-044', 'drive-download-20221107T044101Z-045', 'drive-download-20221107T044101Z-046', 'drive-download-20221107T044101Z-047', 'drive-download-20221107T044101Z-048', 'drive-download-20221107T044101Z-049', 'drive-download-20221107T044101Z-050', 'drive-download-20221107T044101Z-051', 'drive-download-20221107T044101Z-052', 'drive-download-20221107T044101Z-053', 'drive-download-20221107T044101Z-054', 'drive-download-20221107T044101Z-055', 'drive-download-20221107T044101Z-056', 'drive-download-20221107T044101Z-057', 'drive-download-20221107T044101Z-058', 'drive-download-20221107T044101Z-059', 'drive-download-20221107T044101Z-060', 'drive-download-20221107T044101Z-061', 'drive-download-20221107T044101Z-062', 'drive-download-20221107T044101Z-063', 'drive-download-20221107T044101Z-064', 'drive-download-20221107T044101Z-065', 'drive-download-20221107T044101Z-066', 'drive-download-20221107T044101Z-067', 'drive-download-20221107T044101Z-068', 'drive-download-20221107T044101Z-069', 'drive-download-20221107T044101Z-070', 'drive-download-20221107T044101Z-071', 'drive-download-20221107T044101Z-072', 'drive-download-20221107T044101Z-073', 'drive-download-20221107T044101Z-074', 'drive-download-20221107T044101Z-075', 'drive-download-20221107T044101Z-076', 'drive-download-20221107T044101Z-077', 'drive-download-20221107T044101Z-078', 'drive-download-20221107T044101Z-079', 'drive-download-20221107T044101Z-080', 'drive-download-20221107T044101Z-081']\n"
     ]
    }
   ],
   "source": [
    "\n",
    "\n",
    "# base path\n",
    "base_path = 'F:/Download2'\n",
    "\n",
    "# get all directories in our base path.\n",
    "all_dir = os.listdir(base_path)\n",
    "all_dir = [ f for f in os.listdir(base_path) if not f.endswith('.zip')]\n",
    "all_dir\n",
    "# path to destination directory\n",
    "dest = os.path.join(base_path, all_dir[0])\n",
    "# print(\"Before moving directories:\")\n",
    "# print(os.listdir(base_path))\n",
    "#\n",
    "# source = os.path.join(base_path, all_dir[1])\n",
    "# shutil.copytree(source, dest, dirs_exist_ok= True)\n",
    "for dir_ in all_dir[1:]:\n",
    "        # create path to this directory.\n",
    "        source = os.path.join(base_path, dir_)\n",
    "\n",
    "        # move to destination path\n",
    "        shutil.copytree(source, dest, dirs_exist_ok= True)\n",
    "\n",
    "print('Directoreis copied')\n",
    "print(all_dir[1:])"
   ]
  }
 ],
 "metadata": {
  "kernelspec": {
   "display_name": "Python 3",
   "language": "python",
   "name": "python3"
  },
  "language_info": {
   "codemirror_mode": {
    "name": "ipython",
    "version": 2
   },
   "file_extension": ".py",
   "mimetype": "text/x-python",
   "name": "python",
   "nbconvert_exporter": "python",
   "pygments_lexer": "ipython2",
   "version": "2.7.6"
  }
 },
 "nbformat": 4,
 "nbformat_minor": 0
}